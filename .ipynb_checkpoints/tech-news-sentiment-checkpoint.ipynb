{
 "cells": [
  {
   "cell_type": "markdown",
   "id": "standing-disaster",
   "metadata": {},
   "source": [
    "# Sentiment Analysis of Tech News Articles"
   ]
  },
  {
   "cell_type": "code",
   "execution_count": 2,
   "id": "uniform-norman",
   "metadata": {},
   "outputs": [
    {
     "name": "stderr",
     "output_type": "stream",
     "text": [
      "[nltk_data] Downloading package names to /Users/joey/nltk_data...\n",
      "[nltk_data]   Package names is already up-to-date!\n",
      "[nltk_data] Downloading package stopwords to /Users/joey/nltk_data...\n",
      "[nltk_data]   Package stopwords is already up-to-date!\n",
      "[nltk_data] Downloading package averaged_perceptron_tagger to\n",
      "[nltk_data]     /Users/joey/nltk_data...\n",
      "[nltk_data]   Package averaged_perceptron_tagger is already up-to-\n",
      "[nltk_data]       date!\n",
      "[nltk_data] Downloading package vader_lexicon to\n",
      "[nltk_data]     /Users/joey/nltk_data...\n",
      "[nltk_data] Downloading package punkt to /Users/joey/nltk_data...\n",
      "[nltk_data]   Package punkt is already up-to-date!\n"
     ]
    },
    {
     "data": {
      "text/plain": [
       "True"
      ]
     },
     "execution_count": 2,
     "metadata": {},
     "output_type": "execute_result"
    }
   ],
   "source": [
    "import pandas as pd\n",
    "import nltk\n",
    "\n",
    "nltk.download([\"names\",\n",
    "     \"stopwords\",\n",
    "     \"averaged_perceptron_tagger\",\n",
    "     \"vader_lexicon\",\n",
    "     \"punkt\",\n",
    "])"
   ]
  },
  {
   "cell_type": "code",
   "execution_count": 3,
   "id": "assumed-confirmation",
   "metadata": {},
   "outputs": [],
   "source": [
    "train_set = pd.read_csv(\"training.csv\", header=None)\n",
    "devt_set = pd.read_csv(\"development.csv\", header=None)\n",
    "test_set = pd.read_csv(\"test.csv\", header=None, encoding= 'unicode_escape')"
   ]
  },
  {
   "cell_type": "code",
   "execution_count": 4,
   "id": "pending-stanford",
   "metadata": {},
   "outputs": [
    {
     "name": "stdout",
     "output_type": "stream",
     "text": [
      "2346\n",
      "1500\n",
      "774\n"
     ]
    }
   ],
   "source": [
    "print(len(train_set))\n",
    "print(len(devt_set))\n",
    "print(len(test_set))"
   ]
  },
  {
   "cell_type": "code",
   "execution_count": 5,
   "id": "protected-costa",
   "metadata": {},
   "outputs": [],
   "source": [
    "from nltk.sentiment import SentimentIntensityAnalyzer\n",
    "sia = SentimentIntensityAnalyzer()"
   ]
  },
  {
   "cell_type": "code",
   "execution_count": 6,
   "id": "palestinian-relay",
   "metadata": {},
   "outputs": [
    {
     "data": {
      "text/plain": [
       "{'neg': 0.0, 'neu': 0.493, 'pos': 0.507, 'compound': 0.7351}"
      ]
     },
     "execution_count": 6,
     "metadata": {},
     "output_type": "execute_result"
    }
   ],
   "source": [
    "sia.polarity_scores(train_set[1][164])"
   ]
  },
  {
   "cell_type": "code",
   "execution_count": 7,
   "id": "speaking-posting",
   "metadata": {},
   "outputs": [],
   "source": [
    "# Checks the sentiment of a single string of text, ranking it positive, negative, or neutral.\n",
    "def check_sentiment(string_to_analyze):\n",
    "    scores = sia.polarity_scores(string_to_analyze)\n",
    "    neg_neu_pos = [scores['neg'],scores['neu'],scores['pos']]\n",
    "    highest_score = neg_neu_pos.index(max(neg_neu_pos))\n",
    "    return_values = [\"negative\", \"neutral\", \"positive\"]\n",
    "    return return_values[highest_score]"
   ]
  },
  {
   "cell_type": "code",
   "execution_count": 8,
   "id": "auburn-offer",
   "metadata": {},
   "outputs": [
    {
     "data": {
      "text/plain": [
       "'positive'"
      ]
     },
     "execution_count": 8,
     "metadata": {},
     "output_type": "execute_result"
    }
   ],
   "source": [
    "check_sentiment(train_set[1][164])"
   ]
  },
  {
   "cell_type": "code",
   "execution_count": 14,
   "id": "placed-attempt",
   "metadata": {},
   "outputs": [],
   "source": [
    "# Scoring each individual string from the corpus\n",
    "train_list = []\n",
    "for x in train_set[1]:\n",
    "    train_list.append(check_sentiment(x))\n"
   ]
  },
  {
   "cell_type": "code",
   "execution_count": 15,
   "id": "gentle-johnson",
   "metadata": {},
   "outputs": [],
   "source": [
    "# Here, we score the guesses of our sentiment analyzer.\n",
    "# The score is based on the distance of the guesses, e.g.\n",
    "# if the answer is \"negative\" but our system guesses \"positive\",\n",
    "# the penalty is larger than, say, if the answer was \"neutral\"\n",
    "# but our system guessed \"positive\".\n",
    "total_score = len(train_list)\n",
    "score_dict = {\"negative\":-0.5, \"neutral\":0, \"positive\":0.5}\n",
    "for index, value in enumerate(train_list):\n",
    "    total_score -= abs(score_dict[value] - score_dict[train_set[0][index]])"
   ]
  },
  {
   "cell_type": "code",
   "execution_count": 66,
   "id": "floppy-generator",
   "metadata": {},
   "outputs": [
    {
     "name": "stdout",
     "output_type": "stream",
     "text": [
      "0.8589087809036658\n"
     ]
    }
   ],
   "source": [
    "print(total_score/len(train_list))"
   ]
  },
  {
   "cell_type": "code",
   "execution_count": 16,
   "id": "golden-turkish",
   "metadata": {},
   "outputs": [],
   "source": [
    "# Filters out the POS tags we don't want to keep. \n",
    "pos_tags_to_keep = [\"NN\",\"NNP\",\"NNS\",\"NNPS\"]\n",
    "filtered_list = []\n",
    "for entry in train_set[1]:\n",
    "    tokenized = nltk.word_tokenize(entry)\n",
    "    tagged = nltk.pos_tag(tokenized)\n",
    "    new_phrase = \"\"\n",
    "    for word in tagged:\n",
    "        if word[1] in pos_tags_to_keep:\n",
    "            new_phrase += word[0] + \" \"\n",
    "    filtered_list.append(new_phrase)\n",
    "\n",
    "    \n"
   ]
  },
  {
   "cell_type": "code",
   "execution_count": null,
   "id": "coral-eugene",
   "metadata": {},
   "outputs": [],
   "source": [
    "#Here we score each date positive, negative, or neutral. \n",
    "#Currently have 2 data sets so we will use the score_dict\n",
    "#to average out the data sets for each day.\n",
    "wsj_sentiment=[]\n",
    "with open(\"WSJ.txt\") as file:\n"
   ]
  }
 ],
 "metadata": {
  "kernelspec": {
   "display_name": "Python 3",
   "language": "python",
   "name": "python3"
  },
  "language_info": {
   "codemirror_mode": {
    "name": "ipython",
    "version": 3
   },
   "file_extension": ".py",
   "mimetype": "text/x-python",
   "name": "python",
   "nbconvert_exporter": "python",
   "pygments_lexer": "ipython3",
   "version": "3.7.2"
  }
 },
 "nbformat": 4,
 "nbformat_minor": 5
}
