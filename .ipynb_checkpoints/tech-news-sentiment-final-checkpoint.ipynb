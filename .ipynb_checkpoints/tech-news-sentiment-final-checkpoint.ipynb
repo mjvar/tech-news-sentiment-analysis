{
 "cells": [
  {
   "cell_type": "markdown",
   "id": "operational-officer",
   "metadata": {},
   "source": [
    "# Sentiment Analysis of Tech News Articles"
   ]
  },
  {
   "cell_type": "code",
   "execution_count": 218,
   "id": "arabic-surveillance",
   "metadata": {},
   "outputs": [
    {
     "name": "stderr",
     "output_type": "stream",
     "text": [
      "[nltk_data] Downloading package names to\n",
      "[nltk_data]     /Users/matthewvarona/nltk_data...\n",
      "[nltk_data]   Package names is already up-to-date!\n",
      "[nltk_data] Downloading package stopwords to\n",
      "[nltk_data]     /Users/matthewvarona/nltk_data...\n",
      "[nltk_data]   Package stopwords is already up-to-date!\n",
      "[nltk_data] Downloading package averaged_perceptron_tagger to\n",
      "[nltk_data]     /Users/matthewvarona/nltk_data...\n",
      "[nltk_data]   Package averaged_perceptron_tagger is already up-to-\n",
      "[nltk_data]       date!\n",
      "[nltk_data] Downloading package vader_lexicon to\n",
      "[nltk_data]     /Users/matthewvarona/nltk_data...\n",
      "[nltk_data]   Package vader_lexicon is already up-to-date!\n",
      "[nltk_data] Downloading package punkt to\n",
      "[nltk_data]     /Users/matthewvarona/nltk_data...\n",
      "[nltk_data]   Package punkt is already up-to-date!\n"
     ]
    },
    {
     "data": {
      "text/plain": [
       "True"
      ]
     },
     "execution_count": 218,
     "metadata": {},
     "output_type": "execute_result"
    }
   ],
   "source": [
    "import pandas as pd\n",
    "import nltk\n",
    "import math\n",
    "nltk.download([\"names\",\n",
    "     \"stopwords\",\n",
    "     \"averaged_perceptron_tagger\",\n",
    "     \"vader_lexicon\",\n",
    "     \"punkt\",\n",
    "])"
   ]
  },
  {
   "cell_type": "code",
   "execution_count": 219,
   "id": "blank-storage",
   "metadata": {},
   "outputs": [
    {
     "name": "stdout",
     "output_type": "stream",
     "text": [
      "4957\n"
     ]
    }
   ],
   "source": [
    "full_data = pd.read_csv(\"full_headline_data.csv\",header=0,encoding='unicode_escape')\n",
    "print(len(full_data))"
   ]
  },
  {
   "cell_type": "code",
   "execution_count": 220,
   "id": "boring-warning",
   "metadata": {
    "scrolled": true
   },
   "outputs": [],
   "source": [
    "# Separate positive, negative, neutral entries\n",
    "pos_lines = []\n",
    "neg_lines = []\n",
    "neu_lines = []\n",
    "for index, row in full_data.iterrows():\n",
    "    if row['rating'] == \"positive\":\n",
    "        pos_lines.append(row['text'])\n",
    "    if row['rating'] == \"negative\":\n",
    "        neg_lines.append(row['text'])\n",
    "    if row['rating'] == \"neutral\":\n",
    "        neu_lines.append(row['text'])"
   ]
  },
  {
   "cell_type": "code",
   "execution_count": 221,
   "id": "demographic-cooking",
   "metadata": {},
   "outputs": [
    {
     "name": "stdout",
     "output_type": "stream",
     "text": [
      "1429\n",
      "610\n",
      "2917\n"
     ]
    }
   ],
   "source": [
    "print(len(pos_lines))\n",
    "print(len(neg_lines))\n",
    "print(len(neu_lines))"
   ]
  },
  {
   "cell_type": "code",
   "execution_count": 222,
   "id": "uniform-roommate",
   "metadata": {},
   "outputs": [
    {
     "name": "stdout",
     "output_type": "stream",
     "text": [
      "Training set length: 3715\n",
      "Development set length: 620\n",
      "Test set length: 621\n"
     ]
    }
   ],
   "source": [
    "# We train on 3/4ths of the corpus,\n",
    "# develop on 1/8th, and test on 1/8th\n",
    "\n",
    "training_set = {}\n",
    "dev_set = {}\n",
    "test_set = {}\n",
    "\n",
    "# First 3/4ths of corpus is the training set\n",
    "training_set['pos'] = pos_lines[:(int(len(pos_lines)*3/4))]\n",
    "training_set['neg'] = neg_lines[:(int(len(neg_lines)*3/4))]\n",
    "training_set['neu'] = neu_lines[:(int(len(neu_lines)*3/4))]\n",
    "\n",
    "# Next 1/8th is the dev set\n",
    "dev_set['pos'] = pos_lines[(int(len(pos_lines)*3/4)):(int(len(pos_lines)*7/8))]\n",
    "dev_set['neg'] = neg_lines[(int(len(neg_lines)*3/4)):(int(len(neg_lines)*7/8))]\n",
    "dev_set['neu'] = neu_lines[(int(len(neu_lines)*3/4)):(int(len(neu_lines)*7/8))]\n",
    "\n",
    "# Last 1/8th is the test set\n",
    "test_set['pos'] = pos_lines[(int(len(pos_lines)*7/8)):]\n",
    "test_set['neg'] = neg_lines[(int(len(neg_lines)*7/8)):]\n",
    "test_set['neu'] = neu_lines[(int(len(neu_lines)*7/8)):]\n",
    "\n",
    "print(\"Training set length: {}\".format(((len(training_set['pos']) + len(training_set['neg']) + len(training_set['neu'])))))\n",
    "print(\"Development set length: {}\".format(((len(dev_set['pos']) + len(dev_set['neg']) + len(dev_set['neu'])))))\n",
    "print(\"Test set length: {}\".format(((len(test_set['pos']) + len(test_set['neg']) + len(test_set['neu'])))))"
   ]
  },
  {
   "cell_type": "code",
   "execution_count": 223,
   "id": "closed-musical",
   "metadata": {},
   "outputs": [],
   "source": [
    "from nltk.stem import *\n",
    "from nltk.corpus import stopwords \n",
    "\n",
    "training_set_features = {}\n",
    "dev_set_features = {}\n",
    "test_set_features = {}\n",
    "\n",
    "stemmer = PorterStemmer()\n",
    "stop_words = set(stopwords.words('english')) \n",
    "\n",
    "def extract(words):\n",
    "    return dict([(stemmer.stem(word.lower()), True) for word in words.split() if word.lower() not in stop_words])\n",
    "\n",
    "training_set_features['pos'] = [(extract(f), 'pos') for f in training_set['pos']]\n",
    "training_set_features['neg'] = [(extract(f), 'neg') for f in training_set['neg']]\n",
    "training_set_features['neu'] = [(extract(f), 'neu') for f in training_set['neu']]\n",
    "\n",
    "dev_set_features['pos'] = [(extract(f), 'pos') for f in dev_set['pos']]\n",
    "dev_set_features['neg'] = [(extract(f), 'neg') for f in dev_set['neg']]\n",
    "dev_set_features['neu'] = [(extract(f), 'neu') for f in dev_set['neu']]\n",
    "\n",
    "test_set_features['pos'] = [(extract(f), 'pos') for f in test_set['pos']]\n",
    "test_set_features['neg'] = [(extract(f), 'neg') for f in test_set['neg']]\n",
    "test_set_features['neu'] = [(extract(f), 'neu') for f in test_set['neu']]"
   ]
  },
  {
   "cell_type": "code",
   "execution_count": 224,
   "id": "dependent-justice",
   "metadata": {},
   "outputs": [
    {
     "name": "stdout",
     "output_type": "stream",
     "text": [
      "Training on 3715 instances, testing on 621 instances\n",
      "Training complete\n",
      "accuracy: 0.7359098228663447\n",
      "Most Informative Features\n",
      "                    drop = True              neg : neu    =     52.6 : 1.0\n",
      "                    grew = True              pos : neu    =     44.2 : 1.0\n",
      "                    rose = True              pos : neu    =     42.4 : 1.0\n",
      "                    warn = True              neg : neu    =     39.8 : 1.0\n",
      "              strengthen = True              pos : neu    =     32.0 : 1.0\n",
      "                      ep = True              neg : neu    =     29.6 : 1.0\n",
      "                 decreas = True              neg : pos    =     27.3 : 1.0\n",
      "              correspond = True              neg : neu    =     26.8 : 1.0\n",
      "                  compar = True              neg : neu    =     25.1 : 1.0\n",
      "                   doubl = True              pos : neu    =     22.5 : 1.0\n"
     ]
    }
   ],
   "source": [
    "# from nltk.classify import NaiveBayesClassifier\n",
    "\n",
    "# train_features = training_set['pos'] + training_set['neg']\n",
    "# dev_features = dev_set['pos'] + dev_set['neg']\n",
    "# test_features = test_set['pos'] + test_set['neg']\n",
    "\n",
    "# print('Training on %d instances, testing on %d instances' % (len(train_features), len(test_features)))\n",
    "# classifier = NaiveBayesClassifier.train(train_features)\n",
    "# print('Training complete')\n",
    "# print('accuracy:', nltk.classify.util.accuracy(classifier, dev_features))\n",
    "# classifier.show_most_informative_features()\n",
    "\n",
    "from nltk.classify import NaiveBayesClassifier\n",
    "\n",
    "training_set_features = training_set_features['pos'] + training_set_features['neg'] + training_set_features['neu']\n",
    "dev_set_features = dev_set_features['pos'] + dev_set_features['neg'] + dev_set_features['neu']\n",
    "test_set_features = test_set_features['pos'] + test_set_features['neg'] + test_set_features['neu']\n",
    "\n",
    "print('Training on %d instances, testing on %d instances' % (len(training_set_features), len(test_set_features)))\n",
    "classifier = NaiveBayesClassifier.train(training_set_features)\n",
    "print('Training complete')\n",
    "print('accuracy:', nltk.classify.util.accuracy(classifier, test_set_features))\n",
    "classifier.show_most_informative_features()"
   ]
  },
  {
   "cell_type": "code",
   "execution_count": 280,
   "id": "ultimate-denial",
   "metadata": {},
   "outputs": [],
   "source": [
    "# Checks the sentiment of a single string of text, discretely labeling it positive, negative, or neutral.\n",
    "# Used for finding accuracy of our training data.\n",
    "def check_sentiment_for_test(string_to_analyze):\n",
    "    feature_set = extract(string_to_analyze)\n",
    "    prob_dist = classifier.prob_classify(feature_set)\n",
    "    scores = {'pos':prob_dist.prob('pos'),'neg':prob_dist.prob('neg'),'neu':prob_dist.prob('neu')}\n",
    "    neg_neu_pos = [scores['neg'],scores['neu'],scores['pos']]\n",
    "    highest_score = neg_neu_pos.index(max(neg_neu_pos))\n",
    "    return_values = [\"negative\", \"neutral\", \"positive\"]\n",
    "    return return_values[highest_score]\n",
    "\n",
    "# Checks the sentiment of a single string of text, giving it a numerical value.\n",
    "# Used for finding numerical sentiment of our newspapers. \n",
    "# When the keyword argument \"return_all_scores\" is true, this returns the full\n",
    "# dictionary of probability scores for pos, neg, and neu. By\n",
    "# default, though, it only returns the compound score.\n",
    "\n",
    "# The compound score is just the probability of the string being positive\n",
    "# minus the probability of it being negative. This indicates, in a continuous value\n",
    "# between -1 and 1, the numerical value of the sentiment.\n",
    "def check_sentiment(string_to_analyze, return_all_scores=False):\n",
    "    feature_set = extract(string_to_analyze)\n",
    "    prob_dist = classifier.prob_classify(feature_set)\n",
    "    scores = {'pos':prob_dist.prob('pos'),'neg':prob_dist.prob('neg'),'neu':prob_dist.prob('neu')}\n",
    "    scores['compound'] = scores['pos'] - scores['neg']\n",
    "    if return_all_scores:\n",
    "        return scores\n",
    "    return scores[\"compound\"]"
   ]
  },
  {
   "cell_type": "code",
   "execution_count": 281,
   "id": "pleasant-collapse",
   "metadata": {},
   "outputs": [
    {
     "data": {
      "text/plain": [
       "'positive'"
      ]
     },
     "execution_count": 281,
     "metadata": {},
     "output_type": "execute_result"
    }
   ],
   "source": [
    "check_sentiment_for_test(full_data['text'][592])"
   ]
  },
  {
   "cell_type": "code",
   "execution_count": 282,
   "id": "julian-production",
   "metadata": {},
   "outputs": [],
   "source": [
    "# Function for testing accuracy when only certain POS tags are\n",
    "# considered in the sentiment analysis.\n",
    "def test_POS_isolations(test_dict, tags_to_keep):\n",
    "    pos_tags_to_keep = tags_to_keep\n",
    "    print(\"Testing for: {}\".format(tags_to_keep))\n",
    "    test_set = test_dict\n",
    "    filtered_word_list = []\n",
    "    for entry in test_set['pos']:\n",
    "        tokenized = nltk.word_tokenize(entry)\n",
    "        tagged = nltk.pos_tag(tokenized)\n",
    "        new_phrase = \"\"\n",
    "        for word in tagged:\n",
    "            if word[1] in pos_tags_to_keep:\n",
    "                new_phrase += word[0] + \" \"\n",
    "        filtered_word_list.append(new_phrase)\n",
    "    pos_correct = 0\n",
    "    for text in filtered_word_list:\n",
    "        if check_sentiment_for_test(text) == \"positive\":\n",
    "            pos_correct += 1\n",
    "    pos_score = pos_correct/len(test_set['pos'])\n",
    "    print(\"Correct positive guesses: {}\".format(pos_score))\n",
    "    \n",
    "    for entry in test_set['neg']:\n",
    "        tokenized = nltk.word_tokenize(entry)\n",
    "        tagged = nltk.pos_tag(tokenized)\n",
    "        new_phrase = \"\"\n",
    "        for word in tagged:\n",
    "            if word[1] in pos_tags_to_keep:\n",
    "                new_phrase += word[0] + \" \"\n",
    "        filtered_word_list.append(new_phrase)\n",
    "    neg_correct = 0\n",
    "    for text in filtered_word_list:\n",
    "        if check_sentiment_for_test(text) == \"negative\":\n",
    "            neg_correct += 1\n",
    "    neg_score = neg_correct/len(test_set['neg'])\n",
    "    print(\"Correct negative guesses: {}\".format(neg_score))\n",
    "    \n",
    "    for entry in test_set['neu']:\n",
    "        tokenized = nltk.word_tokenize(entry)\n",
    "        tagged = nltk.pos_tag(tokenized)\n",
    "        new_phrase = \"\"\n",
    "        for word in tagged:\n",
    "            if word[1] in pos_tags_to_keep:\n",
    "                new_phrase += word[0] + \" \"\n",
    "        filtered_word_list.append(new_phrase)\n",
    "    neu_correct = 0\n",
    "    for text in filtered_word_list:\n",
    "        if check_sentiment_for_test(text) == \"neutral\":\n",
    "            neu_correct += 1\n",
    "    neu_score = neu_correct/len(test_set['neu'])\n",
    "    print(\"Correct neutral guesses: {}\".format(neu_score))\n",
    "    \n",
    "    pos_ratio = (len(test_set['pos'])/(len(test_set['pos'])+len(test_set['neg'])+len(test_set['neu'])))\n",
    "    neg_ratio = (len(test_set['neg'])/(len(test_set['pos'])+len(test_set['neg'])+len(test_set['neu'])))\n",
    "    neu_ratio = (len(test_set['neu'])/(len(test_set['pos'])+len(test_set['neg'])+len(test_set['neu'])))\n",
    "    \n",
    "    # Precision: How many of the system's guesses were correct.\n",
    "    precision = pos_score*pos_ratio + neg_score*neg_ratio + neu_score*neu_ratio\n",
    "    print(\"Precision: {}\".format(precision))\n",
    "    \n",
    "    # Recall: How many times the system correctly identified a string as \"sentimental\" (pos/neg)\n",
    "    pos_ratio = (len(test_set['pos'])/(len(test_set['pos'])+len(test_set['neg'])))\n",
    "    neg_ratio = (len(test_set['neg'])/(len(test_set['pos'])+len(test_set['neg'])))\n",
    "    recall = pos_score*pos_ratio + neg_score*neg_ratio\n",
    "    print(\"Recall: {}\".format(recall))\n",
    "    \n",
    "    # F-Score\n",
    "    fscore = (2*precision*recall)/(precision+recall)\n",
    "    print(\"F-Score: {}\".format(fscore))\n",
    "            "
   ]
  },
  {
   "cell_type": "code",
   "execution_count": 283,
   "id": "cleared-former",
   "metadata": {},
   "outputs": [
    {
     "name": "stdout",
     "output_type": "stream",
     "text": [
      "Testing for: ['NN', 'NNP', 'NNS', 'NNPS']\n",
      "Correct positive guesses: 0.6480446927374302\n",
      "Correct negative guesses: 0.6623376623376623\n",
      "Correct neutral guesses: 0.9232876712328767\n",
      "Precision: 0.8115942028985507\n",
      "Recall: 0.65234375\n",
      "F-Score: 0.7233071657836729\n"
     ]
    }
   ],
   "source": [
    "# Testing system when it only looks at nouns\n",
    "test_POS_isolations(test_set, [\"NN\",\"NNP\",\"NNS\",\"NNPS\"])"
   ]
  },
  {
   "cell_type": "code",
   "execution_count": 284,
   "id": "developed-athletics",
   "metadata": {
    "scrolled": true
   },
   "outputs": [
    {
     "name": "stdout",
     "output_type": "stream",
     "text": [
      "Testing for: ['JJS', 'JJR', 'JJ']\n",
      "Correct positive guesses: 0.4860335195530726\n",
      "Correct negative guesses: 0.2857142857142857\n",
      "Correct neutral guesses: 1.1561643835616437\n",
      "Precision: 0.8550724637681159\n",
      "Recall: 0.42578125\n",
      "F-Score: 0.5684861878453039\n"
     ]
    }
   ],
   "source": [
    "# Testing system when it only looks at adjectives\n",
    "test_POS_isolations(test_set, [\"JJS\",\"JJR\",\"JJ\"])"
   ]
  },
  {
   "cell_type": "code",
   "execution_count": 285,
   "id": "progressive-bonus",
   "metadata": {},
   "outputs": [
    {
     "name": "stdout",
     "output_type": "stream",
     "text": [
      "Testing for: ['JJS', 'JJR', 'JJ', 'NN', 'NNP', 'NNS', 'NNPS']\n",
      "Correct positive guesses: 0.7430167597765364\n",
      "Correct negative guesses: 0.6493506493506493\n",
      "Correct neutral guesses: 0.8438356164383561\n",
      "Precision: 0.7906602254428341\n",
      "Recall: 0.71484375\n",
      "F-Score: 0.7508429466154701\n"
     ]
    }
   ],
   "source": [
    "# Testing system when it only looks at adjectives\n",
    "test_POS_isolations(test_set, [\"JJS\",\"JJR\",\"JJ\",\"NN\",\"NNP\",\"NNS\",\"NNPS\"])"
   ]
  },
  {
   "cell_type": "code",
   "execution_count": 291,
   "id": "promotional-humanitarian",
   "metadata": {},
   "outputs": [
    {
     "name": "stdout",
     "output_type": "stream",
     "text": [
      "-0.9125819153410697\n",
      "0.16040714439276055\n",
      "0.9945742153289624\n",
      "-0.045905247223948856\n",
      "0.00045884881792629406\n",
      "-0.06488061147081584\n",
      "0.713684035658864\n",
      "-0.06419074849449696\n",
      "0.07025035713257513\n",
      "0.4272990317805506\n",
      "-0.010344566634119281\n",
      "0.0005162687056892947\n",
      "0.9985301611331315\n",
      "-0.0018917708981800582\n",
      "0.07818155465650344\n",
      "-0.018639690602212666\n",
      "0.032182647852051306\n",
      "0.00017521295629551584\n",
      "0.9893340787972111\n",
      "0.03573611772163661\n"
     ]
    }
   ],
   "source": [
    "for x in full_data['text'][:20]:\n",
    "    print(check_sentiment(x))"
   ]
  },
  {
   "cell_type": "code",
   "execution_count": 267,
   "id": "apparent-australian",
   "metadata": {},
   "outputs": [],
   "source": [
    "#finds sentiment of each article in a given outlet\n",
    "def article_sentiment(filename, filterPOS):\n",
    "    list_sentiment=[]\n",
    "    with open(filename) as file:\n",
    "        data = file.read()\n",
    "        articles = data.split(\"--\")\n",
    "        for article in articles:\n",
    "            tokenized = nltk.word_tokenize(article)\n",
    "            tagged = nltk.pos_tag(tokenized)\n",
    "            if filterPOS:\n",
    "                new_phrase = \"\"\n",
    "                for word in tagged:\n",
    "                    if filterPOS:\n",
    "                        if word[1] in pos_tags_to_keep:\n",
    "                            new_phrase += word[0] + \" \"\n",
    "                list_sentiment.append(check_sentiment(new_phrase))\n",
    "            else:\n",
    "                list_sentiment.append(check_sentiment(article))\n",
    "        return list_sentiment\n"
   ]
  },
  {
   "cell_type": "code",
   "execution_count": 292,
   "id": "olive-truth",
   "metadata": {},
   "outputs": [
    {
     "data": {
      "text/plain": [
       "[-0.25046518675204427,\n",
       " 0,\n",
       " 0,\n",
       " -0.3276732251704521,\n",
       " -0.1398721618204966,\n",
       " -0.4033507932423783,\n",
       " -0.24804574023944417,\n",
       " 0,\n",
       " 0,\n",
       " 0,\n",
       " -0.47914417421463074,\n",
       " -0.26290498449628197,\n",
       " -0.0033266041655533774,\n",
       " -0.7973297430469115,\n",
       " -0.2665308036039439,\n",
       " 0,\n",
       " 0,\n",
       " -0.07577513497980932,\n",
       " -0.23687671012267908,\n",
       " -0.16709490914317904,\n",
       " -0.4948072842278529,\n",
       " -0.7266101656862034,\n",
       " 0,\n",
       " 0,\n",
       " -0.4519759385241029,\n",
       " -0.29464401402160684,\n",
       " -0.2527661735169947,\n",
       " -0.3429894679146513,\n",
       " -0.002044866811111823,\n",
       " 0,\n",
       " 0,\n",
       " -0.48160468799414113]"
      ]
     },
     "execution_count": 292,
     "metadata": {},
     "output_type": "execute_result"
    }
   ],
   "source": [
    "#We will first try without any POS filtering\n",
    "wsj_sentiment_raw = article_sentiment(\"WSJ.txt\",False)\n",
    "ap_sentiment_raw = article_sentiment(\"AP.txt\",False)\n",
    "nyt1_sentiment_raw = article_sentiment(\"NYT1.txt\",False)\n",
    "nyt2_sentiment_raw = article_sentiment(\"NYT2.txt\",False)\n",
    "\n",
    "#gets the average sentiment of the two articles\n",
    "daily_score_raw=[]\n",
    "summage=0\n",
    "for i in range(len(wsj_sentiment_raw)):\n",
    "    if i==7:\n",
    "        daily_score_raw.append(0)\n",
    "        summage+=(wsj_sentiment_raw[i]+ap_sentiment_raw[i]+nyt1_sentiment_raw[i]+nyt2_sentiment_raw[i])/4\n",
    "    elif i%7==1 or i%7==2:\n",
    "        daily_score_raw.append(0)\n",
    "        summage+=(wsj_sentiment_raw[i]+ap_sentiment_raw[i]+nyt1_sentiment_raw[i]+nyt2_sentiment_raw[i])/4\n",
    "    elif i%7==3:\n",
    "        daily_score_raw.append(((wsj_sentiment_raw[i]+ap_sentiment_raw[i]+nyt1_sentiment_raw[i]+nyt2_sentiment_raw[i])/4+summage)/3) \n",
    "        summage=0\n",
    "    else:\n",
    "        daily_score_raw.append((wsj_sentiment_raw[i]+ap_sentiment_raw[i]+nyt1_sentiment_raw[i]+nyt2_sentiment_raw[i])/4)\n",
    "\n",
    "    \n",
    "daily_score_raw"
   ]
  },
  {
   "cell_type": "code",
   "execution_count": 293,
   "id": "precious-words",
   "metadata": {},
   "outputs": [
    {
     "data": {
      "text/plain": [
       "[-0.4999780785362945,\n",
       " 0,\n",
       " 0,\n",
       " -0.1252962036802559,\n",
       " -0.0794361018759018,\n",
       " -0.5084940843555591,\n",
       " -0.06433996175051934,\n",
       " 0,\n",
       " 0,\n",
       " 0,\n",
       " -0.649654014813637,\n",
       " 0.07401682699926322,\n",
       " -0.2061337052553806,\n",
       " -0.9998213287668795,\n",
       " -3.6527506250136305e-05,\n",
       " 0,\n",
       " 0,\n",
       " -0.2829589047711973,\n",
       " -0.23464825010831655,\n",
       " 0.02663421170961741,\n",
       " -0.4102802383767612,\n",
       " -0.6299751399609517,\n",
       " 0,\n",
       " 0,\n",
       " -0.6257967595296293,\n",
       " -0.4322599684636562,\n",
       " -0.25008339495044624,\n",
       " 0.0943101104151892,\n",
       " 0.16487374144719857,\n",
       " 0,\n",
       " 0,\n",
       " -0.22004231606582195]"
      ]
     },
     "execution_count": 293,
     "metadata": {},
     "output_type": "execute_result"
    }
   ],
   "source": [
    "#Now we try by filtering only nouns\n",
    "\n",
    "pos_tags_to_keep = [\"NN\",\"NNP\",\"NNS\",\"NNPS\"]\n",
    "\n",
    "\n",
    "\n",
    "wsj_sentiment_noun = article_sentiment(\"WSJ.txt\",True)\n",
    "ap_sentiment_noun = article_sentiment(\"AP.txt\",True)\n",
    "nyt1_sentiment_noun = article_sentiment(\"NYT1.txt\",True)\n",
    "nyt2_sentiment_noun = article_sentiment(\"NYT2.txt\",True)\n",
    "#gets the average sentiment of the two articles\n",
    "daily_score_noun=[]\n",
    "summage=0\n",
    "for i in range(len(wsj_sentiment_noun)):\n",
    "    if i==7:\n",
    "        daily_score_noun.append(0)\n",
    "        summage+=(wsj_sentiment_noun[i]+ap_sentiment_noun[i]+nyt1_sentiment_noun[i]+nyt2_sentiment_noun[i])/4\n",
    "    elif i%7==1 or i%7==2:\n",
    "        daily_score_noun.append(0)\n",
    "        summage+=(wsj_sentiment_noun[i]+ap_sentiment_noun[i]+nyt1_sentiment_noun[i]+nyt2_sentiment_noun[i])/4\n",
    "    elif i%7==3:\n",
    "        daily_score_noun.append(((wsj_sentiment_noun[i]+ap_sentiment_noun[i]+nyt1_sentiment_noun[i]+nyt2_sentiment_noun[i])/4+summage)/3) \n",
    "        summage=0\n",
    "    else:\n",
    "        daily_score_noun.append((wsj_sentiment_noun[i]+ap_sentiment_noun[i]+nyt1_sentiment_noun[i]+nyt2_sentiment_noun[i])/4)\n",
    "\n",
    "    \n",
    "daily_score_noun\n",
    "\n"
   ]
  },
  {
   "cell_type": "code",
   "execution_count": 294,
   "id": "foster-inflation",
   "metadata": {},
   "outputs": [
    {
     "data": {
      "text/plain": [
       "[-0.07150961344360388,\n",
       " 0,\n",
       " 0,\n",
       " 0.25494774804259146,\n",
       " -0.19631008486710902,\n",
       " 0.3522218433387053,\n",
       " 0.40585159953858185,\n",
       " 0,\n",
       " 0,\n",
       " 0,\n",
       " 0.2813600656049811,\n",
       " -0.4037214218724059,\n",
       " 0.19697008934476412,\n",
       " -0.30860475534642295,\n",
       " -0.5002008368376816,\n",
       " 0,\n",
       " 0,\n",
       " 0.2899396351478672,\n",
       " 0.7369143188776243,\n",
       " 0.6518883293659777,\n",
       " 0.2447662454917687,\n",
       " 0.4880260112286672,\n",
       " 0,\n",
       " 0,\n",
       " -0.415101792084196,\n",
       " 0.2721988111038669,\n",
       " 0.3285695853698666,\n",
       " 0.5348091801122759,\n",
       " -0.07311594663965987,\n",
       " 0,\n",
       " 0,\n",
       " -0.022747441028273196]"
      ]
     },
     "execution_count": 294,
     "metadata": {},
     "output_type": "execute_result"
    }
   ],
   "source": [
    "#Now we try by filtering only adjectives\n",
    "\n",
    "pos_tags_to_keep = [\"JJS\",\"JJR\",\"JJ\"]\n",
    "\n",
    "\n",
    "\n",
    "wsj_sentiment_adj = article_sentiment(\"WSJ.txt\",True)\n",
    "ap_sentiment_adj = article_sentiment(\"AP.txt\",True)\n",
    "nyt1_sentiment_adj = article_sentiment(\"NYT1.txt\",True)\n",
    "nyt2_sentiment_adj = article_sentiment(\"NYT2.txt\",True)\n",
    "#gets the average sentiment of the two articles \n",
    "daily_score_adj=[]\n",
    "summage=0\n",
    "for i in range(len(wsj_sentiment_adj)):\n",
    "    if i==7:\n",
    "        daily_score_adj.append(0)\n",
    "        summage+=(wsj_sentiment_adj[i]+ap_sentiment_adj[i]+nyt1_sentiment_adj[i]+nyt2_sentiment_adj[i])/4\n",
    "    elif i%7==1 or i%7==2:\n",
    "        daily_score_adj.append(0)\n",
    "        summage+=(wsj_sentiment_adj[i]+ap_sentiment_adj[i]+nyt1_sentiment_adj[i]+nyt2_sentiment_adj[i])/4\n",
    "    elif i%7==3:\n",
    "        daily_score_adj.append(((wsj_sentiment_adj[i]+ap_sentiment_adj[i]+nyt1_sentiment_adj[i]+nyt2_sentiment_adj[i])/4+summage)/3) \n",
    "        summage=0\n",
    "    else:\n",
    "        daily_score_adj.append((wsj_sentiment_adj[i]+ap_sentiment_adj[i]+nyt1_sentiment_adj[i]+nyt2_sentiment_adj[i])/4)\n",
    "\n",
    "    \n",
    "daily_score_adj\n"
   ]
  },
  {
   "cell_type": "code",
   "execution_count": 295,
   "id": "broke-provision",
   "metadata": {},
   "outputs": [
    {
     "data": {
      "text/plain": [
       "[-0.4669920279717037,\n",
       " 0,\n",
       " 0,\n",
       " -0.11081884126196846,\n",
       " -0.24048919677796363,\n",
       " -0.6774194239054684,\n",
       " -0.06623747980214878,\n",
       " 0,\n",
       " 0,\n",
       " 0,\n",
       " -0.4448426793253024,\n",
       " -0.3997652355089571,\n",
       " -0.2971215791301582,\n",
       " -0.9999946366268618,\n",
       " -0.15674584970519465,\n",
       " 0,\n",
       " 0,\n",
       " -0.049712967517659655,\n",
       " -0.00030170894087810777,\n",
       " 0.22366651140850774,\n",
       " -0.41167331554966646,\n",
       " -0.5004888207483372,\n",
       " 0,\n",
       " 0,\n",
       " -0.6088607664649148,\n",
       " -0.16291838096803352,\n",
       " -0.4648682828834463,\n",
       " 0.1754867589087202,\n",
       " 0.18137052630425365,\n",
       " 0,\n",
       " 0,\n",
       " -0.47859255120228356]"
      ]
     },
     "execution_count": 295,
     "metadata": {},
     "output_type": "execute_result"
    }
   ],
   "source": [
    "#Now we try by filtering adjectives and nouns\n",
    "\n",
    "pos_tags_to_keep = [\"JJS\",\"JJR\",\"JJ\",\"NN\",\"NNP\",\"NNS\",\"NNPS\"]\n",
    "#finds sentiment of each article in a given outlet\n",
    "\n",
    "\n",
    "\n",
    "wsj_sentiment_adj_noun = article_sentiment(\"WSJ.txt\",True)\n",
    "ap_sentiment_adj_noun = article_sentiment(\"AP.txt\",True)\n",
    "nyt1_sentiment_adj_noun = article_sentiment(\"NYT1.txt\",True)\n",
    "nyt2_sentiment_adj_noun = article_sentiment(\"NYT2.txt\",True)\n",
    "\n",
    "#gets the average of the two articles based on score_dict\n",
    "daily_score_adj_noun=[]\n",
    "summage=0\n",
    "for i in range(len(wsj_sentiment_adj_noun)):\n",
    "    #good friday\n",
    "    if i==7:\n",
    "        daily_score_adj_noun.append(0)\n",
    "        summage+=(wsj_sentiment_adj_noun[i]+ap_sentiment_adj_noun[i]+nyt1_sentiment_adj_noun[i]+nyt2_sentiment_adj_noun[i])/4\n",
    "    #sat,sunday\n",
    "    elif i%7==1 or i%7==2:\n",
    "        daily_score_adj_noun.append(0)\n",
    "        summage+=(wsj_sentiment_adj_noun[i]+ap_sentiment_adj_noun[i]+nyt1_sentiment_adj_noun[i]+nyt2_sentiment_adj_noun[i])/4\n",
    "    #monday, average them\n",
    "    elif i%7==3:\n",
    "        daily_score_adj_noun.append(((wsj_sentiment_adj_noun[i]+ap_sentiment_adj_noun[i]+nyt1_sentiment_adj_noun[i]+nyt2_sentiment_adj_noun[i])/4+summage)/3) \n",
    "        summage=0\n",
    "    else:\n",
    "        daily_score_adj_noun.append((wsj_sentiment_adj_noun[i]+ap_sentiment_adj_noun[i]+nyt1_sentiment_adj_noun[i]+nyt2_sentiment_adj_noun[i])/4)\n",
    "daily_score_adj_noun\n"
   ]
  },
  {
   "cell_type": "code",
   "execution_count": 296,
   "id": "focused-savannah",
   "metadata": {},
   "outputs": [
    {
     "data": {
      "image/png": "[encoded data removed]",
      "text/plain": [
       "<Figure size 432x288 with 1 Axes>"
      ]
     },
     "metadata": {
      "needs_background": "light"
     },
     "output_type": "display_data"
    }
   ],
   "source": [
    "import matplotlib.pyplot as plt\n",
    "plt.plot(daily_score_raw)\n",
    "plt.axhline(y=0, color='r', linestyle='-')\n",
    "plt.axhline(y=0.5, color='b', linestyle='-')\n",
    "plt.xlabel(\"Date (26 March - 26 April)\")\n",
    "plt.ylabel(\"Average news scores (All words)\")\n",
    "plt.show()"
   ]
  },
  {
   "cell_type": "code",
   "execution_count": 297,
   "id": "democratic-carnival",
   "metadata": {},
   "outputs": [
    {
     "data": {
      "image/png": "[encoded data removed]",
      "text/plain": [
       "<Figure size 432x288 with 1 Axes>"
      ]
     },
     "metadata": {
      "needs_background": "light"
     },
     "output_type": "display_data"
    }
   ],
   "source": [
    "plt.plot(daily_score_noun)\n",
    "plt.axhline(y=0, color='r', linestyle='-')\n",
    "plt.axhline(y=0.5, color='b', linestyle='-')\n",
    "plt.xlabel(\"Date (26 March - 26 April)\")\n",
    "plt.ylabel(\"Average news scores (Nouns)\")\n",
    "plt.show()"
   ]
  },
  {
   "cell_type": "code",
   "execution_count": 298,
   "id": "pharmaceutical-aspect",
   "metadata": {},
   "outputs": [
    {
     "data": {
      "image/png": "[encoded data removed]",
      "text/plain": [
       "<Figure size 432x288 with 1 Axes>"
      ]
     },
     "metadata": {
      "needs_background": "light"
     },
     "output_type": "display_data"
    }
   ],
   "source": [
    "plt.plot(daily_score_adj)\n",
    "plt.axhline(y=0, color='r', linestyle='-')\n",
    "plt.axhline(y=0.5, color='b', linestyle='-')\n",
    "plt.xlabel(\"Date (26 March - 26 April)\")\n",
    "plt.ylabel(\"Average news scores (Adjectives)\")\n",
    "plt.show()"
   ]
  },
  {
   "cell_type": "code",
   "execution_count": 299,
   "id": "bridal-female",
   "metadata": {},
   "outputs": [
    {
     "data": {
      "image/png": "[encoded data removed]",
      "text/plain": [
       "<Figure size 432x288 with 1 Axes>"
      ]
     },
     "metadata": {
      "needs_background": "light"
     },
     "output_type": "display_data"
    }
   ],
   "source": [
    "plt.plot(daily_score_adj_noun)\n",
    "plt.axhline(y=0, color='r', linestyle='-')\n",
    "plt.axhline(y=0.5, color='b', linestyle='-')\n",
    "plt.xlabel(\"Date (26 March - 26 April)\")\n",
    "plt.ylabel(\"Average news scores (Adjectives & Nouns)\")\n",
    "plt.show()"
   ]
  },
  {
   "cell_type": "code",
   "execution_count": 300,
   "id": "infectious-albany",
   "metadata": {},
   "outputs": [
    {
     "name": "stdout",
     "output_type": "stream",
     "text": [
      "[2.2006916459458656, 0.0, 0.0, -0.7522581727676942, -0.6339814032121724, 1.656032893804064, 2.086529610309916, 0.0, 0.0, 0.0, 1.7706369374538788, -0.17988991810981766, 0.3604282102318661, 1.5222984562607222, 0.8315733896515252, 0.0, 0.0, -0.32988611074747765, 1.0769917780871636, -1.0837079965695615, 1.6998581262151151, -0.15500271254746079, 0.0, 0.0, -0.9443970089782489, -1.0134782154424813, 1.0528815706143153, -0.929625277451365, 1.4576029942803, 0.0, 0.0, 0.8105580380338783, -0.3504793320276295, -0.7913520223440577, -0.30759605859965766, -1.4381340863926368, 0.0, 0.0, -0.40059425903326545]\n"
     ]
    },
    {
     "data": {
      "image/png": "[encoded data removed]",
      "text/plain": [
       "<Figure size 432x288 with 1 Axes>"
      ]
     },
     "metadata": {
      "needs_background": "light"
     },
     "output_type": "display_data"
    },
    {
     "data": {
      "image/png": "[encoded data removed]",
      "text/plain": [
       "<Figure size 432x288 with 1 Axes>"
      ]
     },
     "metadata": {
      "needs_background": "light"
     },
     "output_type": "display_data"
    }
   ],
   "source": [
    "import numpy as np\n",
    "stock_prices = []\n",
    "stock = open(\"VGT Price.txt\")\n",
    "counter = 0\n",
    "for line in stock:\n",
    "    if counter == 0:\n",
    "        counter += 1\n",
    "    elif counter < 40:\n",
    "        price = line.split(\" \")\n",
    "        stock_prices.append(float(price[1].strip(\"\\n\")))\n",
    "        counter += 1\n",
    "    else:\n",
    "        break\n",
    "\n",
    "#print(stock_prices)                            \n",
    "delta_stock_prices = [(357.59-349.89)/349.89*100]\n",
    "for i in range(len(stock_prices) - 1):\n",
    "    delta_stock_prices.append((stock_prices[i+1] - stock_prices[i]) / stock_prices[i] * 100)\n",
    "print(delta_stock_prices)\n",
    "\n",
    "plt.plot(stock_prices)\n",
    "plt.xlabel(\"Date (26 March - 3 May)\")\n",
    "plt.ylabel(\"VGT Stock Price\")\n",
    "plt.show()\n",
    "\n",
    "plt.plot(delta_stock_prices)\n",
    "plt.axhline(y=0, color='r', linestyle='-')\n",
    "plt.xlabel(\"Date (26 March - 3 May)\")\n",
    "plt.ylabel(\"% Change in VGT Stock Price\")\n",
    "plt.show()\n",
    "    "
   ]
  },
  {
   "cell_type": "code",
   "execution_count": 301,
   "id": "narrative-egyptian",
   "metadata": {},
   "outputs": [
    {
     "name": "stdout",
     "output_type": "stream",
     "text": [
      "Coefficient of correlation with all words:   -0.1458893520703036\n",
      "Coefficient of correlation using nouns & adjectives:  0.03909351118725067\n",
      "Coefficient of correlation using adjectives:  0.08739757355412875\n",
      "Coefficient of correlation using nouns:  -0.048023501148498106\n"
     ]
    }
   ],
   "source": [
    "#correlation\n",
    "\n",
    "y = np.array(stock_prices[:32])\n",
    "x_all = np.array(daily_score_raw)\n",
    "x_adj_noun = np.array(daily_score_adj_noun)\n",
    "x_adj = np.array(daily_score_adj)\n",
    "x_noun = np.array(daily_score_noun)\n",
    "\n",
    "r_all = np.corrcoef(x_all, y)\n",
    "r_adj_noun = np.corrcoef(x_adj_noun, y)\n",
    "r_adj = np.corrcoef(x_adj, y)\n",
    "r_noun = np.corrcoef(x_noun, y)\n",
    "print(\"Coefficient of correlation with all words:  \", r_all[0,1])\n",
    "print(\"Coefficient of correlation using nouns & adjectives: \", r_adj_noun[0,1])\n",
    "print(\"Coefficient of correlation using adjectives: \", r_adj[0,1])\n",
    "print(\"Coefficient of correlation using nouns: \", r_noun[0,1])"
   ]
  },
  {
   "cell_type": "code",
   "execution_count": null,
   "id": "disciplinary-thomas",
   "metadata": {},
   "outputs": [],
   "source": []
  },
  {
   "cell_type": "code",
   "execution_count": null,
   "id": "nearby-medium",
   "metadata": {},
   "outputs": [],
   "source": []
  }
 ],
 "metadata": {
  "kernelspec": {
   "display_name": "Python 3",
   "language": "python",
   "name": "python3"
  },
  "language_info": {
   "codemirror_mode": {
    "name": "ipython",
    "version": 3
   },
   "file_extension": ".py",
   "mimetype": "text/x-python",
   "name": "python",
   "nbconvert_exporter": "python",
   "pygments_lexer": "ipython3",
   "version": "3.8.5"
  }
 },
 "nbformat": 4,
 "nbformat_minor": 5
}
