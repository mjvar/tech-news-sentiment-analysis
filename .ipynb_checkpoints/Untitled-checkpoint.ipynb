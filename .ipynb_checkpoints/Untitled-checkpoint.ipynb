{
 "cells": [
  {
   "cell_type": "markdown",
   "id": "unable-frontier",
   "metadata": {},
   "source": [
    "# Sentiment Analysis of Tech News Articles"
   ]
  },
  {
   "cell_type": "code",
   "execution_count": 1,
   "id": "bizarre-cigarette",
   "metadata": {},
   "outputs": [
    {
     "name": "stderr",
     "output_type": "stream",
     "text": [
      "[nltk_data] Downloading package names to\n",
      "[nltk_data]     /Users/matthewvarona/nltk_data...\n",
      "[nltk_data]   Unzipping corpora/names.zip.\n",
      "[nltk_data] Downloading package stopwords to\n",
      "[nltk_data]     /Users/matthewvarona/nltk_data...\n",
      "[nltk_data]   Unzipping corpora/stopwords.zip.\n",
      "[nltk_data] Downloading package averaged_perceptron_tagger to\n",
      "[nltk_data]     /Users/matthewvarona/nltk_data...\n",
      "[nltk_data]   Unzipping taggers/averaged_perceptron_tagger.zip.\n",
      "[nltk_data] Downloading package vader_lexicon to\n",
      "[nltk_data]     /Users/matthewvarona/nltk_data...\n",
      "[nltk_data] Downloading package punkt to\n",
      "[nltk_data]     /Users/matthewvarona/nltk_data...\n",
      "[nltk_data]   Package punkt is already up-to-date!\n"
     ]
    },
    {
     "data": {
      "text/plain": [
       "True"
      ]
     },
     "execution_count": 1,
     "metadata": {},
     "output_type": "execute_result"
    }
   ],
   "source": [
    "import pandas as pd\n",
    "import nltk\n",
    "\n",
    "nltk.download([\"names\",\n",
    "     \"stopwords\",\n",
    "     \"averaged_perceptron_tagger\",\n",
    "     \"vader_lexicon\",\n",
    "     \"punkt\",\n",
    "])"
   ]
  },
  {
   "cell_type": "code",
   "execution_count": 12,
   "id": "champion-universe",
   "metadata": {},
   "outputs": [],
   "source": [
    "train_set = pd.read_csv(\"training.csv\", header=None)\n",
    "devt_set = pd.read_csv(\"development.csv\", header=None)\n",
    "test_set = pd.read_csv(\"test.csv\", header=None, encoding= 'unicode_escape')"
   ]
  },
  {
   "cell_type": "code",
   "execution_count": 14,
   "id": "altered-thomson",
   "metadata": {},
   "outputs": [
    {
     "name": "stdout",
     "output_type": "stream",
     "text": [
      "2346\n",
      "1500\n",
      "774\n"
     ]
    }
   ],
   "source": [
    "print(len(train_set))\n",
    "print(len(devt_set))\n",
    "print(len(test_set))"
   ]
  },
  {
   "cell_type": "code",
   "execution_count": 16,
   "id": "prerequisite-handbook",
   "metadata": {},
   "outputs": [],
   "source": [
    "from nltk.sentiment import SentimentIntensityAnalyzer\n",
    "sia = SentimentIntensityAnalyzer()"
   ]
  },
  {
   "cell_type": "code",
   "execution_count": 37,
   "id": "floral-soviet",
   "metadata": {},
   "outputs": [
    {
     "data": {
      "text/plain": [
       "{'neg': 0.0, 'neu': 0.493, 'pos': 0.507, 'compound': 0.7351}"
      ]
     },
     "execution_count": 37,
     "metadata": {},
     "output_type": "execute_result"
    }
   ],
   "source": [
    "sia.polarity_scores(train_set[1][164])"
   ]
  },
  {
   "cell_type": "code",
   "execution_count": 42,
   "id": "cheap-pastor",
   "metadata": {},
   "outputs": [],
   "source": [
    "# Checks the sentiment of a single string of text, ranking it positive, negative, or neutral.\n",
    "def check_sentiment(string_to_analyze):\n",
    "    scores = sia.polarity_scores(string_to_analyze)\n",
    "    neg_neu_pos = [scores['neg'],scores['neu'],scores['pos']]\n",
    "    highest_score = neg_neu_pos.index(max(neg_neu_pos))\n",
    "    return_values = [\"negative\", \"neutral\", \"positive\"]\n",
    "    return return_values[highest_score]"
   ]
  },
  {
   "cell_type": "code",
   "execution_count": 44,
   "id": "lonely-thing",
   "metadata": {},
   "outputs": [
    {
     "data": {
      "text/plain": [
       "'positive'"
      ]
     },
     "execution_count": 44,
     "metadata": {},
     "output_type": "execute_result"
    }
   ],
   "source": [
    "check_sentiment(train_set[1][164])"
   ]
  },
  {
   "cell_type": "code",
   "execution_count": 54,
   "id": "devoted-hours",
   "metadata": {},
   "outputs": [],
   "source": [
    "# Scoring each individual string from the corpus\n",
    "train_list = []\n",
    "for x in train_set[1]:\n",
    "    train_list.append(check_sentiment(x))"
   ]
  },
  {
   "cell_type": "code",
   "execution_count": 58,
   "id": "subtle-ottawa",
   "metadata": {},
   "outputs": [
    {
     "ename": "SyntaxError",
     "evalue": "'return' outside function (<ipython-input-58-c95a558e570d>, line 6)",
     "output_type": "error",
     "traceback": [
      "\u001b[0;36m  File \u001b[0;32m\"<ipython-input-58-c95a558e570d>\"\u001b[0;36m, line \u001b[0;32m6\u001b[0m\n\u001b[0;31m    return abs(score_dict[value] - score_dict[train_set[0][index]])\u001b[0m\n\u001b[0m    ^\u001b[0m\n\u001b[0;31mSyntaxError\u001b[0m\u001b[0;31m:\u001b[0m 'return' outside function\n"
     ]
    }
   ],
   "source": [
    "# Here, we score the guesses of our sentiment analyzer.\n",
    "\n",
    "total_score = len(train_list)\n",
    "score_dict = {\"negative\":-1, \"neutral\":0, \"positive\":1}\n",
    "for index, value in enumerate(train_list):\n",
    "    total_score -= abs(score_dict[value] - score_dict[train_set[0][index]])"
   ]
  },
  {
   "cell_type": "code",
   "execution_count": 57,
   "id": "measured-crystal",
   "metadata": {},
   "outputs": [
    {
     "name": "stdout",
     "output_type": "stream",
     "text": [
      "0.7178175618073316\n"
     ]
    }
   ],
   "source": [
    "print(total_score/len(train_list))"
   ]
  },
  {
   "cell_type": "code",
   "execution_count": null,
   "id": "metric-identifier",
   "metadata": {},
   "outputs": [],
   "source": []
  }
 ],
 "metadata": {
  "kernelspec": {
   "display_name": "Python 3",
   "language": "python",
   "name": "python3"
  },
  "language_info": {
   "codemirror_mode": {
    "name": "ipython",
    "version": 3
   },
   "file_extension": ".py",
   "mimetype": "text/x-python",
   "name": "python",
   "nbconvert_exporter": "python",
   "pygments_lexer": "ipython3",
   "version": "3.8.5"
  }
 },
 "nbformat": 4,
 "nbformat_minor": 5
}
