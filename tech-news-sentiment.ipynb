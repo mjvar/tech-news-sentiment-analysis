{
 "cells": [
  {
   "cell_type": "markdown",
   "id": "alone-passion",
   "metadata": {},
   "source": [
    "# Sentiment Analysis of Tech News Articles"
   ]
  },
  {
   "cell_type": "code",
   "execution_count": 3,
   "id": "extensive-easter",
   "metadata": {},
   "outputs": [
    {
     "name": "stderr",
     "output_type": "stream",
     "text": [
      "[nltk_data] Downloading package names to /Users/joey/nltk_data...\n",
      "[nltk_data]   Package names is already up-to-date!\n",
      "[nltk_data] Downloading package stopwords to /Users/joey/nltk_data...\n",
      "[nltk_data]   Package stopwords is already up-to-date!\n",
      "[nltk_data] Downloading package averaged_perceptron_tagger to\n",
      "[nltk_data]     /Users/joey/nltk_data...\n",
      "[nltk_data]   Package averaged_perceptron_tagger is already up-to-\n",
      "[nltk_data]       date!\n",
      "[nltk_data] Downloading package vader_lexicon to\n",
      "[nltk_data]     /Users/joey/nltk_data...\n",
      "[nltk_data]   Package vader_lexicon is already up-to-date!\n",
      "[nltk_data] Downloading package punkt to /Users/joey/nltk_data...\n",
      "[nltk_data]   Package punkt is already up-to-date!\n"
     ]
    },
    {
     "data": {
      "text/plain": [
       "True"
      ]
     },
     "execution_count": 3,
     "metadata": {},
     "output_type": "execute_result"
    }
   ],
   "source": [
    "import pandas as pd\n",
    "import nltk\n",
    "import math\n",
    "nltk.download([\"names\",\n",
    "     \"stopwords\",\n",
    "     \"averaged_perceptron_tagger\",\n",
    "     \"vader_lexicon\",\n",
    "     \"punkt\",\n",
    "])"
   ]
  },
  {
   "cell_type": "code",
   "execution_count": 4,
   "id": "juvenile-tuesday",
   "metadata": {},
   "outputs": [],
   "source": [
    "train_set = pd.read_csv(\"training.csv\", header=None)\n",
    "devt_set = pd.read_csv(\"development.csv\", header=None)\n",
    "test_set = pd.read_csv(\"test.csv\", header=None, encoding= 'unicode_escape')"
   ]
  },
  {
   "cell_type": "code",
   "execution_count": 5,
   "id": "streaming-landscape",
   "metadata": {},
   "outputs": [
    {
     "name": "stdout",
     "output_type": "stream",
     "text": [
      "2346\n",
      "1500\n",
      "774\n"
     ]
    }
   ],
   "source": [
    "print(len(train_set))\n",
    "print(len(devt_set))\n",
    "print(len(test_set))"
   ]
  },
  {
   "cell_type": "code",
   "execution_count": 6,
   "id": "multiple-breeding",
   "metadata": {},
   "outputs": [],
   "source": [
    "from nltk.sentiment import SentimentIntensityAnalyzer\n",
    "sia = SentimentIntensityAnalyzer()"
   ]
  },
  {
   "cell_type": "code",
   "execution_count": 7,
   "id": "completed-phoenix",
   "metadata": {},
   "outputs": [
    {
     "data": {
      "text/plain": [
       "{'neg': 0.0, 'neu': 0.493, 'pos': 0.507, 'compound': 0.7351}"
      ]
     },
     "execution_count": 7,
     "metadata": {},
     "output_type": "execute_result"
    }
   ],
   "source": [
    "sia.polarity_scores(train_set[1][164])"
   ]
  },
  {
   "cell_type": "code",
   "execution_count": 8,
   "id": "painted-climate",
   "metadata": {},
   "outputs": [],
   "source": [
    "# Checks the sentiment of a single string of text, ranking it positive, negative, or neutral.\n",
    "def check_sentiment_for_test(string_to_analyze):\n",
    "    scores = sia.polarity_scores(string_to_analyze)\n",
    "    neg_neu_pos = [scores['neg'],scores['neu'],scores['pos']]\n",
    "    highest_score = neg_neu_pos.index(max(neg_neu_pos))\n",
    "    return_values = [\"negative\", \"neutral\", \"positive\"]\n",
    "    return return_values[highest_score]\n",
    "\n",
    "# Checks the sentiment of a single string of text, giving it a numerical value.\n",
    "def check_sentiment(string_to_analyze):\n",
    "    scores = sia.polarity_scores(string_to_analyze)\n",
    "    return scores[\"compound\"]"
   ]
  },
  {
   "cell_type": "code",
   "execution_count": 9,
   "id": "eastern-ordinance",
   "metadata": {},
   "outputs": [
    {
     "data": {
      "text/plain": [
       "'positive'"
      ]
     },
     "execution_count": 9,
     "metadata": {},
     "output_type": "execute_result"
    }
   ],
   "source": [
    "check_sentiment_for_test(train_set[1][164])"
   ]
  },
  {
   "cell_type": "code",
   "execution_count": 10,
   "id": "insured-municipality",
   "metadata": {},
   "outputs": [],
   "source": [
    "# Scoring each individual string from the corpus\n",
    "train_list = []\n",
    "for x in train_set[1]:\n",
    "    train_list.append(check_sentiment_for_test(x))\n"
   ]
  },
  {
   "cell_type": "code",
   "execution_count": 11,
   "id": "electric-fleet",
   "metadata": {},
   "outputs": [],
   "source": [
    "# Here, we score the guesses of our sentiment analyzer.\n",
    "# The score is based on the distance of the guesses, e.g.\n",
    "# if the answer is \"negative\" but our system guesses \"positive\",\n",
    "# the penalty is larger than, say, if the answer was \"neutral\"\n",
    "# but our system guessed \"positive\".\n",
    "total_score = len(train_list)\n",
    "score_dict = {\"negative\":-0.5, \"neutral\":0, \"positive\":0.5}\n",
    "for index, value in enumerate(train_list):\n",
    "    total_score -= abs(score_dict[value] - score_dict[train_set[0][index]])"
   ]
  },
  {
   "cell_type": "code",
   "execution_count": 12,
   "id": "spatial-columbus",
   "metadata": {},
   "outputs": [
    {
     "name": "stdout",
     "output_type": "stream",
     "text": [
      "0.8589087809036658\n"
     ]
    }
   ],
   "source": [
    "print(total_score/len(train_list))"
   ]
  },
  {
   "cell_type": "code",
   "execution_count": 13,
   "id": "pressed-europe",
   "metadata": {},
   "outputs": [
    {
     "name": "stdout",
     "output_type": "stream",
     "text": [
      "0.8388746803069054\n"
     ]
    }
   ],
   "source": [
    "# Filters out the POS to only have nouns\n",
    "pos_tags_to_keep = [\"NN\",\"NNP\",\"NNS\",\"NNPS\"]\n",
    "noun_list = []\n",
    "for entry in train_set[1]:\n",
    "    tokenized = nltk.word_tokenize(entry)\n",
    "    tagged = nltk.pos_tag(tokenized)\n",
    "    new_phrase = \"\"\n",
    "    for word in tagged:\n",
    "        if word[1] in pos_tags_to_keep:\n",
    "            new_phrase += word[0] + \" \"\n",
    "    noun_list.append(new_phrase)\n",
    "\n",
    "#Get sentiment for train set with only nouns:\n",
    "train_list_noun = []\n",
    "for x in noun_list:\n",
    "    train_list_noun.append(check_sentiment_for_test(x))\n",
    "total_score = len(train_list_noun)\n",
    "score_dict = {\"negative\":-0.5, \"neutral\":0, \"positive\":0.5}\n",
    "for index, value in enumerate(train_list_noun):\n",
    "    \n",
    "    total_score -= abs(score_dict[value] - score_dict[train_set[0][index]])\n",
    "\n",
    "#Accuracy score with only nouns\n",
    "print(total_score/len(train_list_noun))"
   ]
  },
  {
   "cell_type": "code",
   "execution_count": 14,
   "id": "generous-entrepreneur",
   "metadata": {},
   "outputs": [
    {
     "name": "stdout",
     "output_type": "stream",
     "text": [
      "0.7664109121909634\n"
     ]
    }
   ],
   "source": [
    "# Filters out the POS to only have adjectives\n",
    "pos_tags_to_keep = [\"JJS\",\"JJR\",\"JJ\"]\n",
    "adj_list = []\n",
    "for entry in train_set[1]:\n",
    "    tokenized = nltk.word_tokenize(entry)\n",
    "    tagged = nltk.pos_tag(tokenized)\n",
    "    new_phrase = \"\"\n",
    "    for word in tagged:\n",
    "        if word[1] in pos_tags_to_keep:\n",
    "            new_phrase += word[0] + \" \"\n",
    "    adj_list.append(new_phrase)\n",
    "\n",
    "#Get sentiment for train set with only adjectives:\n",
    "train_list_adj = []\n",
    "for x in adj_list:\n",
    "    train_list_adj.append(check_sentiment_for_test(x))\n",
    "total_score = len(train_list_adj)\n",
    "score_dict = {\"negative\":-0.5, \"neutral\":0, \"positive\":0.5}\n",
    "for index, value in enumerate(train_list_adj):\n",
    "    total_score -= abs(score_dict[value] - score_dict[train_set[0][index]])\n",
    "\n",
    "#Accuracy score with only adjectives\n",
    "print(total_score/len(train_list_adj))"
   ]
  },
  {
   "cell_type": "code",
   "execution_count": 15,
   "id": "opponent-density",
   "metadata": {},
   "outputs": [
    {
     "name": "stdout",
     "output_type": "stream",
     "text": [
      "0.8478260869565217\n"
     ]
    }
   ],
   "source": [
    "# Filters out the POS to only have adjectives AND nouns\n",
    "pos_tags_to_keep = [\"JJS\",\"JJR\",\"JJ\",\"NN\",\"NNP\",\"NNS\",\"NNPS\"]\n",
    "adj_noun_list = []\n",
    "for entry in train_set[1]:\n",
    "    tokenized = nltk.word_tokenize(entry)\n",
    "    tagged = nltk.pos_tag(tokenized)\n",
    "    new_phrase = \"\"\n",
    "    for word in tagged:\n",
    "        if word[1] in pos_tags_to_keep:\n",
    "            new_phrase += word[0] + \" \"\n",
    "    adj_noun_list.append(new_phrase)\n",
    "\n",
    "#Get sentiment for train set with only adjectives:\n",
    "train_list_adj_noun = []\n",
    "for x in adj_noun_list:\n",
    "    train_list_adj_noun.append(check_sentiment_for_test(x))\n",
    "total_score = len(train_list_adj_noun)\n",
    "score_dict = {\"negative\":-0.5, \"neutral\":0, \"positive\":0.5}\n",
    "for index, value in enumerate(train_list_adj_noun):\n",
    "    total_score -= abs(score_dict[value] - score_dict[train_set[0][index]])\n",
    "\n",
    "#Accuracy score with only adjectives\n",
    "print(total_score/len(train_list_adj_noun))"
   ]
  },
  {
   "cell_type": "code",
   "execution_count": 26,
   "id": "raised-coast",
   "metadata": {},
   "outputs": [],
   "source": [
    "#percent change of open and close of stock price\n",
    "#stock_changes =[((357.59-349.3)/349.3),0.0,0.0,((354.9-356.76)/356.76),((352.65-352.62)/352.62),((358.49-355.02)/355.02),((365.97-363.24)/363.24),((352.65-352.62)/352.62),0.0,0.0,0.0,((372.45-368.64)/368.64),((371.78-372)/372),((373.12-371.55)/371.55),((378.8-376.39)/376.39),((373.12-371.55)/371.55),((381.95-377.35)/377.35),0.0,0.0,((380.69-380.89)/380.89),((384.79-382.08)/382.08),((380.69-380.89)/380.89),((380.62-385)/385),((387.09-384.37)/384.37),((386.49-388.04)/388.04),0.0,0.0,((382.84-384.81)/384.81),((382.95-378.13)/378.13),((379.39-382.5)/382.5),((384.92-380.04)/380.04),0.0,0.0,((388.04-385.03)/385.03)]\n",
    "#stock_changes"
   ]
  },
  {
   "cell_type": "code",
   "execution_count": 17,
   "id": "built-satisfaction",
   "metadata": {},
   "outputs": [],
   "source": [
    "#finds sentiment of each article in a given outlet\n",
    "def article_sentiment(filename, filterPOS):\n",
    "    list_sentiment=[]\n",
    "    with open(filename) as file:\n",
    "        data = file.read()\n",
    "        articles = data.split(\"--\")\n",
    "        for article in articles:\n",
    "            tokenized = nltk.word_tokenize(article)\n",
    "            tagged = nltk.pos_tag(tokenized)\n",
    "            if filterPOS:\n",
    "                new_phrase = \"\"\n",
    "                for word in tagged:\n",
    "                    if filterPOS:\n",
    "                        if word[1] in pos_tags_to_keep:\n",
    "                            new_phrase += word[0] + \" \"\n",
    "                list_sentiment.append(check_sentiment(new_phrase))\n",
    "            else:\n",
    "                list_sentiment.append(check_sentiment(article))\n",
    "        return list_sentiment"
   ]
  },
  {
   "cell_type": "code",
   "execution_count": 18,
   "id": "bacterial-bonus",
   "metadata": {},
   "outputs": [
    {
     "data": {
      "text/plain": [
       "[0.98035,\n",
       " 0.99725,\n",
       " 0.97225,\n",
       " 0.12600000000000003,\n",
       " 0.3601,\n",
       " 0.89695,\n",
       " 0.1442,\n",
       " 0.48975,\n",
       " -0.05075000000000002,\n",
       " 0.02310000000000001,\n",
       " 0.46485000000000004,\n",
       " 0.12140000000000001,\n",
       " 0.91265,\n",
       " 0.7720499999999999,\n",
       " 0.697,\n",
       " 0.9934499999999999,\n",
       " 0.9879,\n",
       " 0.9961,\n",
       " -0.15709999999999996,\n",
       " 0.07244999999999996,\n",
       " 0.9541999999999999,\n",
       " 0.9366,\n",
       " 0.96755,\n",
       " 0.9672000000000001,\n",
       " 0.98495,\n",
       " -0.01479999999999998,\n",
       " 0.91455,\n",
       " 0.9272,\n",
       " 0.9963,\n",
       " 0.98285,\n",
       " 0.9761500000000001,\n",
       " 0.966]"
      ]
     },
     "execution_count": 18,
     "metadata": {},
     "output_type": "execute_result"
    }
   ],
   "source": [
    "#We will first try without any POS filtering\n",
    "wsj_sentiment_raw = article_sentiment(\"WSJ.txt\",False)\n",
    "ap_sentiment_raw = article_sentiment(\"AP.txt\",False)\n",
    "\n",
    "#gets the average sentiment of the two articles\n",
    "daily_score_raw=[]\n",
    "for i in range(len(wsj_sentiment_raw)):\n",
    "    daily_score_raw.append((wsj_sentiment_raw[i]+ap_sentiment_raw[i])/2) \n",
    "    \n",
    "daily_score_raw"
   ]
  },
  {
   "cell_type": "code",
   "execution_count": 25,
   "id": "dedicated-institution",
   "metadata": {},
   "outputs": [
    {
     "data": {
      "text/plain": [
       "[0.6356499999999999,\n",
       " 0.1799,\n",
       " 0.7663,\n",
       " -0.477,\n",
       " 0.7931,\n",
       " 0.43085,\n",
       " 0.3286,\n",
       " 0.4921,\n",
       " 0.45130000000000003,\n",
       " 0.48545,\n",
       " 0.3981,\n",
       " -0.19295,\n",
       " 0.7863,\n",
       " -0.0022000000000000353,\n",
       " 0.29505000000000003,\n",
       " 0.9682,\n",
       " 0.9526,\n",
       " 0.9929,\n",
       " -0.5095000000000001,\n",
       " 0.3347,\n",
       " 0.5367,\n",
       " 0.11709999999999998,\n",
       " 0.71095,\n",
       " 0.8728,\n",
       " 0.9493,\n",
       " 0.47620000000000007,\n",
       " 0.9079,\n",
       " 0.7819499999999999,\n",
       " 0.988,\n",
       " 0.8301000000000001,\n",
       " 0.91455,\n",
       " 0.55795]"
      ]
     },
     "execution_count": 25,
     "metadata": {},
     "output_type": "execute_result"
    }
   ],
   "source": [
    "#Now we try by filtering only nouns\n",
    "\n",
    "pos_tags_to_keep = [\"NN\",\"NNP\",\"NNS\",\"NNPS\"]\n",
    "\n",
    "\n",
    "\n",
    "wsj_sentiment_noun = article_sentiment(\"WSJ.txt\",True)\n",
    "ap_sentiment_noun = article_sentiment(\"AP.txt\",True)\n",
    "\n",
    "#gets the average sentiment of the two articles\n",
    "daily_score_noun=[]\n",
    "for i in range(len(wsj_sentiment_noun)):\n",
    "    daily_score_noun.append((wsj_sentiment_noun[i]+ap_sentiment_noun[i])/2) \n",
    "    \n",
    "daily_score_noun\n",
    "\n"
   ]
  },
  {
   "cell_type": "code",
   "execution_count": 38,
   "id": "following-folks",
   "metadata": {},
   "outputs": [
    {
     "data": {
      "text/plain": [
       "[0.17334999999999998,\n",
       " 0.9867,\n",
       " 0.69585,\n",
       " 0.56405,\n",
       " 0.40475,\n",
       " -0.05035,\n",
       " 0.01050000000000001,\n",
       " 0.16810000000000003,\n",
       " 0.27265000000000006,\n",
       " 0.15440000000000004,\n",
       " 0.62615,\n",
       " 0.06530000000000002,\n",
       " 0.8512,\n",
       " 0.8791,\n",
       " 0.5927,\n",
       " 0.90025,\n",
       " 0.9457,\n",
       " 0.75995,\n",
       " -0.02930000000000002,\n",
       " 0.13385,\n",
       " 0.83805,\n",
       " 0.7835,\n",
       " 0.8955,\n",
       " 0.7988500000000001,\n",
       " 0.9168000000000001,\n",
       " 0.1806,\n",
       " 0.56895,\n",
       " 0.45895,\n",
       " 0.9467,\n",
       " 0.7883,\n",
       " 0.8766499999999999,\n",
       " 0.42255]"
      ]
     },
     "execution_count": 38,
     "metadata": {},
     "output_type": "execute_result"
    }
   ],
   "source": [
    "#Now we try by filtering only adjectives\n",
    "\n",
    "pos_tags_to_keep = [\"JJS\",\"JJR\",\"JJ\"]\n",
    "\n",
    "\n",
    "\n",
    "wsj_sentiment_adj = article_sentiment(\"WSJ.txt\",True)\n",
    "ap_sentiment_adj = article_sentiment(\"AP.txt\",True)\n",
    "\n",
    "#gets the average sentiment of the two articles \n",
    "daily_score_adj=[]\n",
    "for i in range(len(wsj_sentiment_adj)):\n",
    "    daily_score_adj.append((wsj_sentiment_adj[i]+ap_sentiment_adj[i])/2) \n",
    "    \n",
    "daily_score_adj\n"
   ]
  },
  {
   "cell_type": "code",
   "execution_count": 39,
   "id": "junior-apple",
   "metadata": {},
   "outputs": [
    {
     "data": {
      "text/plain": [
       "[0.9200999999999999,\n",
       " 0.99295,\n",
       " 0.8967499999999999,\n",
       " 0.1528,\n",
       " 0.7965,\n",
       " 0.4441,\n",
       " 0.11154999999999998,\n",
       " 0.6703,\n",
       " 0.7333000000000001,\n",
       " 0.50495,\n",
       " 0.6822,\n",
       " -0.0050000000000000044,\n",
       " 0.96065,\n",
       " 0.012899999999999967,\n",
       " 0.5608500000000001,\n",
       " 0.9863,\n",
       " 0.98995,\n",
       " 0.99455,\n",
       " -0.35745000000000005,\n",
       " 0.22399999999999998,\n",
       " 0.8626,\n",
       " 0.5103,\n",
       " 0.9601999999999999,\n",
       " 0.96195,\n",
       " 0.9815,\n",
       " 0.54895,\n",
       " 0.9467000000000001,\n",
       " 0.81555,\n",
       " 0.9945999999999999,\n",
       " 0.9611000000000001,\n",
       " 0.9681500000000001,\n",
       " 0.6948000000000001]"
      ]
     },
     "execution_count": 39,
     "metadata": {},
     "output_type": "execute_result"
    }
   ],
   "source": [
    "#Now we try by filtering adjectives and nouns\n",
    "\n",
    "pos_tags_to_keep = [\"JJS\",\"JJR\",\"JJ\",\"NN\",\"NNP\",\"NNS\",\"NNPS\"]\n",
    "#finds sentiment of each article in a given outlet\n",
    "\n",
    "\n",
    "\n",
    "wsj_sentiment_adj_noun = article_sentiment(\"WSJ.txt\",True)\n",
    "ap_sentiment_adj_noun = article_sentiment(\"AP.txt\",True)\n",
    "\n",
    "#gets the average of the two articles based on score_dict\n",
    "daily_score_adj_noun=[]\n",
    "for i in range(len(wsj_sentiment_adj_noun)):\n",
    "    daily_score_adj_noun.append((wsj_sentiment_adj_noun[i]+ap_sentiment_adj_noun[i])/2) \n",
    "    \n",
    "daily_score_adj_noun\n"
   ]
  },
  {
   "cell_type": "code",
   "execution_count": null,
   "id": "optional-thumb",
   "metadata": {},
   "outputs": [],
   "source": []
  },
  {
   "cell_type": "code",
   "execution_count": null,
   "id": "circular-halifax",
   "metadata": {},
   "outputs": [],
   "source": []
  }
 ],
 "metadata": {
  "kernelspec": {
   "display_name": "Python 3",
   "language": "python",
   "name": "python3"
  },
  "language_info": {
   "codemirror_mode": {
    "name": "ipython",
    "version": 3
   },
   "file_extension": ".py",
   "mimetype": "text/x-python",
   "name": "python",
   "nbconvert_exporter": "python",
   "pygments_lexer": "ipython3",
   "version": "3.7.2"
  }
 },
 "nbformat": 4,
 "nbformat_minor": 5
}
